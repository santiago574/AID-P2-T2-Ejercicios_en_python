{
  "nbformat": 4,
  "nbformat_minor": 0,
  "metadata": {
    "colab": {
      "name": "Ejercicios3.ipynb",
      "provenance": [],
      "collapsed_sections": [],
      "authorship_tag": "ABX9TyMgFxWNqUwrZ/Aqq5FARk6s",
      "include_colab_link": true
    },
    "kernelspec": {
      "name": "python3",
      "display_name": "Python 3"
    },
    "language_info": {
      "name": "python"
    }
  },
  "cells": [
    {
      "cell_type": "markdown",
      "metadata": {
        "id": "view-in-github",
        "colab_type": "text"
      },
      "source": [
        "<a href=\"https://colab.research.google.com/github/santiago574/AID-P2-T2-Ejercicios_en_python/blob/main/Ejercicios3.ipynb\" target=\"_parent\"><img src=\"https://colab.research.google.com/assets/colab-badge.svg\" alt=\"Open In Colab\"/></a>"
      ]
    },
    {
      "cell_type": "markdown",
      "metadata": {
        "id": "biCaCNQrph4N"
      },
      "source": [
        "# Ejercicio 1\n",
        "#### Escribir un programa que acceda a un fichero de internet mediante su url y muestre por pantalla el número de palabras que contiene."
      ]
    },
    {
      "cell_type": "code",
      "metadata": {
        "colab": {
          "base_uri": "https://localhost:8080/"
        },
        "id": "uDGfIw65osp4",
        "outputId": "f7382a61-efaf-4fe8-bd68-3f9f9f8ba226"
      },
      "source": [
        "def leer(url):\n",
        "    from urllib import request as r\n",
        "    from urllib.error import URLError\n",
        "    try:\n",
        "        ar = r.urlopen(url)\n",
        "    except URLError:\n",
        "        return('0 porque la url ' + url + ' no existe')\n",
        "    else:\n",
        "        co = ar.read()        \n",
        "        return len(co.split())\n",
        "url = input('introduce tu url: ')\n",
        "if url == '':\n",
        "  print('Por favor llene el espacio en blanco')\n",
        "else:\n",
        "  print('El numero de palabras en la pagina es: {0}'.format(leer(url))) "
      ],
      "execution_count": 37,
      "outputs": [
        {
          "output_type": "stream",
          "text": [
            "introduce tu url: https://es.wikipedia.org/wiki/Wikipedia:Portada\n",
            "El numero de palabras en la pagina es: 4299\n"
          ],
          "name": "stdout"
        }
      ]
    },
    {
      "cell_type": "markdown",
      "metadata": {
        "id": "o2w92l5Yx3Dn"
      },
      "source": [
        "# Ejercicio 2\n",
        "#### Escribir un programa que abra el fichero con información sobre el PIB per cápita de los países de la Unión Europea (url:https://ec.europa.eu/eurostat/estat-navtree-portlet-prod/BulkDownloadListing?file=data/sdg_08_10.tsv.gz&unzip=true), pregunte por las iniciales de un país y muestre el PIB per cápita de ese país de todos los años disponibles."
      ]
    },
    {
      "cell_type": "code",
      "metadata": {
        "colab": {
          "base_uri": "https://localhost:8080/"
        },
        "id": "Qc7z1GwuyA6D",
        "outputId": "f034accc-f4ea-483e-a676-65a821bcaef5"
      },
      "source": [
        "def Ob_PIB(url, pais='ES'):\n",
        "    from urllib import request as r\n",
        "    from urllib.error import URLError\n",
        "    try:\n",
        "        f = r.urlopen(url)\n",
        "    except URLError:\n",
        "        return('La url ' + url + 'es erronea')\n",
        "    else:\n",
        "        pib = f.read().decode('utf-8').split('\\n') \n",
        "        pib = [i.split('\\t') for i in pib] \n",
        "        pib = [list(map(str.strip, i)) for i in pib] \n",
        "        for i in pib:\n",
        "            i[0] = i[0].split(',')[-1]\n",
        "        pib[0][0] = 'years'\n",
        "        pib = {i[0]:i[1:] for i in pib}\n",
        "        res = {pib['years'][i]:pib[pais][i] for i in range(len(pib['years']))}\n",
        "        return res\n",
        "\n",
        "pais = input('Introduce el código de un país: ')\n",
        "if pais == '':\n",
        "  print('Por favor llene el espacio en blanco')\n",
        "else:\n",
        "  print('Producto Interno Bruto per cápita de', pais)\n",
        "  print('Año', '\\t', 'PIB')\n",
        "  for año, p2 in Ob_PIB('https://ec.europa.eu/eurostat/estat-navtree-portlet-prod/BulkDownloadListing?file=data/sdg_08_10.tsv.gz&unzip=true').items():\n",
        "      print(año, '\\t', p2)\n"
      ],
      "execution_count": 41,
      "outputs": [
        {
          "output_type": "stream",
          "text": [
            "Introduce el código de un país: Es\n",
            "Producto Interno Bruto per cápita de Es\n",
            "Año \t PIB\n",
            "2000 \t 21460\n",
            "2001 \t 22190\n",
            "2002 \t 22430\n",
            "2003 \t 22680\n",
            "2004 \t 23020\n",
            "2005 \t 23420\n",
            "2006 \t 24000\n",
            "2007 \t 24380\n",
            "2008 \t 24200\n",
            "2009 \t 23100\n",
            "2010 \t 23040\n",
            "2011 \t 22770\n",
            "2012 \t 22080\n",
            "2013 \t 21840\n",
            "2014 \t 22210\n",
            "2015 \t 23080\n",
            "2016 \t 23760\n",
            "2017 \t 24430\n",
            "2018 \t 24910 p\n",
            "2019 \t 25200 p\n",
            "2020 \t 22350 p\n"
          ],
          "name": "stdout"
        }
      ]
    },
    {
      "cell_type": "markdown",
      "metadata": {
        "id": "7oOlCS3h2pFJ"
      },
      "source": [
        "# Ejercicio 3\n",
        "#### Escribir un programa para gestionar un listín telefónico con los nombres y los teléfonos de los clientes de una empresa. El programa incorporarfunciones crear el fichero con el listín si no existe, para consultar el teléfono de un cliente, añadir el teléfono de un nuevo cliente y eliminar el teléfono de un cliente. El listín debe estar guardado en el fichero de texto listin.txt donde el nombre del cliente y su teléfono deben aparecer separados por comas y cada cliente en una línea distinta."
      ]
    },
    {
      "cell_type": "code",
      "metadata": {
        "colab": {
          "base_uri": "https://localhost:8080/"
        },
        "id": "v2syWwQm2pgj",
        "outputId": "3a60ac9a-d869-4fea-b25d-28d5ff86e9fa"
      },
      "source": [
        "def t(archivo, cliente):\n",
        "\n",
        "    try: \n",
        "        f = open(archivo, 'r')\n",
        "    except FileNotFoundError:\n",
        "        return('El fichero ' + archivo + ' no existe\\n')\n",
        "    else:\n",
        "        dir = f.readlines()\n",
        "        f.close()\n",
        "        dir = dict([tuple(line.split(',')) for line in dir])\n",
        "        if cliente in dir:\n",
        "            return dir[cliente]\n",
        "        else:\n",
        "            return('El cliente  ' + cliente + ' no existe\\n')\n",
        "\n",
        "\n",
        "def at(archivo, cliente, telfono):\n",
        "\n",
        "    try: \n",
        "        f = open(archivo, 'a')\n",
        "    except FileNotFoundError:\n",
        "        return('¡El fichero ' + archivo + ' no existe\\n')\n",
        "    else:\n",
        "        f.write(cliente + ',' + telfono + '\\n')\n",
        "        f.close()\n",
        "        return('¡Felicidades el cliente a sido agregado con exito!\\n')\n",
        "\n",
        "def rc(archivo, cliente):\n",
        "\n",
        "    try: \n",
        "        f = open(archivo, 'r')\n",
        "    except FileNotFoundError:\n",
        "        return('El fichero ' + archivo + ' no existe\\n')\n",
        "    else:\n",
        "        dir = f.readlines()\n",
        "        f.close()\n",
        "        dir = dict([tuple(line.split(',')) for line in dir])\n",
        "        if cliente in dir:\n",
        "            del dir[cliente]\n",
        "            f = open(archivo, 'w')\n",
        "            for nombre, telfono in dir.items():\n",
        "                f.write(nombre + ',' + telfono)\n",
        "            f.close()\n",
        "            return ('¡El cliente ha sido borrado con exito!\\n')\n",
        "        else:\n",
        "            return('¡El contacto ' + cliente + ' no existe!\\n')\n",
        "\n",
        "\n",
        "def cd(archivo):\n",
        "\n",
        "    import os\n",
        "    if os.path.isfile(archivo):\n",
        "        Preg = input('El fichero ' + archivo + ' ya existe. ¿Desea vaciarlo (S/N)? ')\n",
        "        if Preg == 'N': \n",
        "            return 'No se ha creado el fichero porque ya existe.\\n'\n",
        "    f = open(archivo, 'w')\n",
        "    f.close()\n",
        "    return 'Se ha creado el fichero.\\n'\n",
        "     \n",
        "\n",
        "def menu():\n",
        "\n",
        "    print('        Menú del listin')\n",
        "    print(\"\")\n",
        "    print('1 - Consultar un nombre y teléfono')\n",
        "    print('2 - Añadir un nombre y teléfono')\n",
        "    print('3 - Eliminar un nombre y teléfono')\n",
        "    print('4 - vaciar lista de contactos')\n",
        "    print('0 - Terminar')\n",
        "    opcion = input('¿Qué accion desea relalizar?: ')\n",
        "    return opcion\n",
        "\n",
        "\n",
        "def directorio():\n",
        "    archivo = 'listin.txt' \n",
        "    while True:\n",
        "        option = menu()\n",
        "        if option == '1':\n",
        "            nombre = input('¿Cuál es el nombre del cliente?: ')\n",
        "            print(t(archivo, nombre))\n",
        "        elif option == '2':\n",
        "            nombre = input('¿Cuál es el nombre del cliente?: ')\n",
        "            tel = input('¿Cuál es el teléfono del cliente?: ')\n",
        "            print(at(archivo, nombre, tel))\n",
        "        elif option == '3':\n",
        "            nombre = input('¿Cuál es el nombre del cliente?: ')\n",
        "            print(rc(archivo, nombre))\n",
        "        elif option == '4':\n",
        "            print(cd(archivo))\n",
        "        else:\n",
        "            break\n",
        "    return\n",
        "directorio()\n"
      ],
      "execution_count": 46,
      "outputs": [
        {
          "output_type": "stream",
          "text": [
            "        Menú del listin\n",
            "\n",
            "1 - Consultar un nombre y teléfono\n",
            "2 - Añadir un nombre y teléfono\n",
            "3 - Eliminar un nombre y teléfono\n",
            "4 - vaciar lista de contactos\n",
            "0 - Terminar\n",
            "¿Qué accion desea relalizar?: 1\n",
            "¿Cuál es el nombre del cliente?: santiago\n",
            "El cliente  santiago no existe\n",
            "\n",
            "        Menú del listin\n",
            "\n",
            "1 - Consultar un nombre y teléfono\n",
            "2 - Añadir un nombre y teléfono\n",
            "3 - Eliminar un nombre y teléfono\n",
            "4 - vaciar lista de contactos\n",
            "0 - Terminar\n",
            "¿Qué accion desea relalizar?: 2\n",
            "¿Cuál es el nombre del cliente?: santiago\n",
            "¿Cuál es el teléfono del cliente?: 987564215\n",
            "¡Felicidades el cliente a sido agregado con exito!\n",
            "\n",
            "        Menú del listin\n",
            "\n",
            "1 - Consultar un nombre y teléfono\n",
            "2 - Añadir un nombre y teléfono\n",
            "3 - Eliminar un nombre y teléfono\n",
            "4 - vaciar lista de contactos\n",
            "0 - Terminar\n",
            "¿Qué accion desea relalizar?: 1\n",
            "¿Cuál es el nombre del cliente?: santiago\n",
            "987564215\n",
            "\n",
            "        Menú del listin\n",
            "\n",
            "1 - Consultar un nombre y teléfono\n",
            "2 - Añadir un nombre y teléfono\n",
            "3 - Eliminar un nombre y teléfono\n",
            "4 - vaciar lista de contactos\n",
            "0 - Terminar\n",
            "¿Qué accion desea relalizar?: 0\n"
          ],
          "name": "stdout"
        }
      ]
    },
    {
      "cell_type": "markdown",
      "metadata": {
        "id": "WFv58I_QJbxi"
      },
      "source": [
        "# Ejercicio 4\n",
        "#### Escribir una función que aplique un descuento a un precio y otra que aplique el IVA a un precio. Escribir una tercera función que reciba un diccionario con los precios y porcentajes de una cesta de la compra, y una de las funciones anteriores, y utilice la función pasada para aplicar los descuentos o el IVA a los productos de la cesta y devolver el precio final de la cesta."
      ]
    },
    {
      "cell_type": "code",
      "metadata": {
        "colab": {
          "base_uri": "https://localhost:8080/"
        },
        "id": "9gQ7-xeNJcCC",
        "outputId": "f6d3ce37-2b33-44c2-8d01-86f3c142ea81"
      },
      "source": [
        "def f1(p, des):\n",
        "   \n",
        "    return p - p * des / 100\n",
        "    \n",
        "def f2(p, por):\n",
        "    \n",
        "    return p + p * por / 100\n",
        "\n",
        "def f3(datos, fun):\n",
        "    \n",
        "    total = 0\n",
        "    for p, des in datos.items():\n",
        "        total += fun(p, des)\n",
        "    return total\n",
        "\n",
        "print('el precio de la compra con el descuentos es: ', f3({200:20, 8000:10, 3000:1}, f1))\n",
        "print('el precio de la compra aplicar el IVA es: ', f3({3254:20, 8963:10, 2860:1}, f2))"
      ],
      "execution_count": 47,
      "outputs": [
        {
          "output_type": "stream",
          "text": [
            "el precio de la compra con el descuentos es:  10330.0\n",
            "el precio de la compra aplicar el IVA es:  16652.699999999997\n"
          ],
          "name": "stdout"
        }
      ]
    },
    {
      "cell_type": "markdown",
      "metadata": {
        "id": "FCUCAUE-L4N4"
      },
      "source": [
        "# Ejercicio 5\n",
        "#### Escribir una función que simule una calculadora científica que permita calcular el seno, coseno, tangente, exponencial y logaritmo neperiano. La función preguntará al usuario el valor y la función a aplicar, y mostrará por pantalla una tabla con los enteros de 1 al valor introducido y el resultado de aplicar la función a esos enteros."
      ]
    },
    {
      "cell_type": "code",
      "metadata": {
        "colab": {
          "base_uri": "https://localhost:8080/"
        },
        "id": "OXKo5qf1L4Xy",
        "outputId": "d673cacb-7865-4eba-c84a-86395dd462ef"
      },
      "source": [
        "from math import sin, cos, tan, exp, log\n",
        "\n",
        "def operacion(f, n):\n",
        "    funcion = {'sin':sin, 'cos':cos, 'tan':tan, 'exp':exp, 'log':log}\n",
        "    res = {}\n",
        "    for i in range(1, n+1):\n",
        "        res[i] = funcion[f](i)\n",
        "    return res\n",
        "\n",
        "def calcular():\n",
        "    n = int(input('Escriba un numero positivo: '))\n",
        "    f = input('¿Qué funcion desea aplicar?(sin, cos, tan, exp, log) : ')\n",
        "    for i, j in operacion(f, n).items():\n",
        "        print (i, '\\t', j)\n",
        "    return\n",
        "\n",
        "calcular()"
      ],
      "execution_count": 49,
      "outputs": [
        {
          "output_type": "stream",
          "text": [
            "Escriba un numero positivo: 10\n",
            "¿Qué funcion desea aplicar?(sin, cos, tan, exp, log) : tan\n",
            "1 \t 1.5574077246549023\n",
            "2 \t -2.185039863261519\n",
            "3 \t -0.1425465430742778\n",
            "4 \t 1.1578212823495775\n",
            "5 \t -3.380515006246586\n",
            "6 \t -0.29100619138474915\n",
            "7 \t 0.8714479827243188\n",
            "8 \t -6.799711455220379\n",
            "9 \t -0.45231565944180985\n",
            "10 \t 0.6483608274590866\n"
          ],
          "name": "stdout"
        }
      ]
    },
    {
      "cell_type": "markdown",
      "metadata": {
        "id": "h9xNDKeEM_1W"
      },
      "source": [
        "# Ejercicio 6\n",
        "#### Escribir una función reciba una lista de notas y devuelva la lista de calificaciones correspondientes a esas notas."
      ]
    },
    {
      "cell_type": "code",
      "metadata": {
        "colab": {
          "base_uri": "https://localhost:8080/"
        },
        "id": "b2Vb4xDZNABT",
        "outputId": "3550e250-ad95-43ef-9e71-dd519ee18157"
      },
      "source": [
        "def funcion(punto):\n",
        "    \n",
        "    if punto < 5:\n",
        "        return 'Suspenso'\n",
        "    elif punto >= 5 and punto < 7:\n",
        "        return 'Aprobado'\n",
        "    elif punto >= 7 and punto < 9:\n",
        "        return 'Notable'\n",
        "    elif punto >= 9 and punto <= 10:\n",
        "        return 'Sobresaliente'\n",
        "    else:\n",
        "        return 'Favor de ingrsar una calificacion'\n",
        "\n",
        "def cal(puntos):\n",
        "  return [funcion(x) for x in puntos]\n",
        "calificaciones = [7.4, 4.9, 4.4, 8.2, 0, 9.7, 10]\n",
        "print('Los resultados de las calificaciones {0} son:'.format(calificaciones))\n",
        "print(cal(calificaciones))   "
      ],
      "execution_count": 67,
      "outputs": [
        {
          "output_type": "stream",
          "text": [
            "Los resultados de las calificaciones [7.4, 4.9, 4.4, 8.2, 0, 9.7, 10] son:\n",
            "['Notable', 'Suspenso', 'Suspenso', 'Notable', 'Suspenso', 'Sobresaliente', 'Sobresaliente']\n"
          ],
          "name": "stdout"
        }
      ]
    },
    {
      "cell_type": "markdown",
      "metadata": {
        "id": "OjOHM4OfWIVD"
      },
      "source": [
        "# Ejercicio 7\n",
        "#### Corregir los errores sintácticos del siguiente programa:"
      ]
    },
    {
      "cell_type": "code",
      "metadata": {
        "colab": {
          "base_uri": "https://localhost:8080/"
        },
        "id": "fVx8qXzwWIhY",
        "outputId": "f09291c0-6ba1-4998-8c32-51a0fb173335"
      },
      "source": [
        "#contraseña = input('Introduce la contraseña: \")<-- error en las comillas\n",
        "contraseña = input('Introduce la contraseña: ')\n",
        "#if contraseña in ['sesamo'):<-- error en los parentecis\n",
        "if contraseña in ('sesamo'):\n",
        "  print('Pasa')\n",
        "  #else <-- falta :\n",
        "else:\n",
        "  print('No pasa')"
      ],
      "execution_count": 73,
      "outputs": [
        {
          "output_type": "stream",
          "text": [
            "Introduce la contraseña: sesamo\n",
            "Pasa\n"
          ],
          "name": "stdout"
        }
      ]
    },
    {
      "cell_type": "markdown",
      "metadata": {
        "id": "dMetTgXBXHcG"
      },
      "source": [
        "# Ejercicio 8\n",
        "#### Detectar y corregir los errores del siguiente programa que aplica el iva a una factura:"
      ]
    },
    {
      "cell_type": "code",
      "metadata": {
        "colab": {
          "base_uri": "https://localhost:8080/"
        },
        "id": "Mjb6oiqDXHkm",
        "outputId": "09b50510-19d1-46b9-b67f-eecc4e8aa1bf"
      },
      "source": [
        "base = int(input('Introduce la base imponible de la factura: ')) #falta converti el valor base a int\n",
        "print(aplica_iva(base))# la variable iva esta de ms \n",
        "def aplica_iva(base, iva = 16):\n",
        "  base = base + (base * iva / 100)   #la formula no era corecta\n",
        "  return base "
      ],
      "execution_count": 84,
      "outputs": [
        {
          "output_type": "stream",
          "text": [
            "Introduce la base imponible de la factura: 10\n",
            "11.6\n"
          ],
          "name": "stdout"
        }
      ]
    },
    {
      "cell_type": "markdown",
      "metadata": {
        "id": "6Z6hgXkKZqsx"
      },
      "source": [
        "# Ejercicio 9\n",
        "#### Detectar y corregir los errores del siguiente programa que multiplica dos matrices:"
      ]
    },
    {
      "cell_type": "code",
      "metadata": {
        "colab": {
          "base_uri": "https://localhost:8080/"
        },
        "id": "9jlZCNA0Zq2t",
        "outputId": "e96ccd46-c658-459a-fa4d-7ba515eb7c23"
      },
      "source": [
        "a = ((1, 2, 3),(3, 2, 1))\n",
        "b = ((1, 2),(3, 4),(5, 6))\n",
        "def producto(a, b):\n",
        "  producto = []\n",
        "  for i in range(len(a)):# en vez de b es a\n",
        "    fila = []\n",
        "    for j in range(len(b[0])):#el +1 esta demas y en vez de a es b\n",
        "      suma = 0\n",
        "      for k in range(len(a[0])):\n",
        "        suma += a[i][k] * b[k][j] #el +1 esta demas\n",
        "      fila.append(suma)# forma incorrecta de agregar elementos a una lista\n",
        "    producto.append(tuple(fila))# forma incorrecta de agregar elementos a una lista\n",
        "  return tuple(producto)\n",
        "print(producto(a, b))"
      ],
      "execution_count": 101,
      "outputs": [
        {
          "output_type": "stream",
          "text": [
            "((22, 28), (14, 20))\n"
          ],
          "name": "stdout"
        }
      ]
    },
    {
      "cell_type": "markdown",
      "metadata": {
        "id": "MZi7gzgEct2_"
      },
      "source": [
        "# Ejercicio 10\n",
        "#### Detectar y corregir los errores del siguiente programa que calcula el producto escalar de dos vectores:"
      ]
    },
    {
      "cell_type": "code",
      "metadata": {
        "colab": {
          "base_uri": "https://localhost:8080/"
        },
        "id": "v0Skdho2cuE3",
        "outputId": "38ba4d60-f13b-468e-c9c8-eff077058722"
      },
      "source": [
        "u = [1, 2, 3]#los parentecis no van deben ser remplazados por corchetes\n",
        "v = [4, 5, 6]#los parentecis no van deben ser remplazados por corchetes\n",
        "\n",
        "def producto_escalar(u, v):\n",
        "  for i in range(len(u)): #forma incorrecta de ponerlo\n",
        "    u[i] *= v[i] #los 1 estan demas\n",
        "  return sum(u)\n",
        "\n",
        "print(producto_escalar(u, v))"
      ],
      "execution_count": 116,
      "outputs": [
        {
          "output_type": "stream",
          "text": [
            "32\n"
          ],
          "name": "stdout"
        }
      ]
    }
  ]
}